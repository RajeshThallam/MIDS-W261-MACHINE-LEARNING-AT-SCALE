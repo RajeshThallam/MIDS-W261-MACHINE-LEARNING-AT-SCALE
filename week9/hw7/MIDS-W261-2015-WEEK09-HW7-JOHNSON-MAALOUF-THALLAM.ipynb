{
 "cells": [
  {
   "cell_type": "markdown",
   "metadata": {},
   "source": [
    "# <span style=\"color:darkgreen\">DATSCIW261 ASSIGNMENT 7</span>\n",
    "#### MIDS UC Berkeley, Machine Learning at Scale\n",
    "\n",
    "<b>AUTHORS</b> : \n",
    "    - Rich Johnson\n",
    "    - Charles Maalouf\n",
    "    - Rajesh Thallam\n",
    "<b>EMAIL</b>  : richard.johnson@ischool.berkeley.edu, cmaalouf@berkeley.edu, rajesh.thallam@ischool.berkeley.edu <br>\n",
    "<b>WEEK</b>   : 9 <br>\n",
    "<b>DATE</b>   : 27-Oct-15"
   ]
  },
  {
   "cell_type": "markdown",
   "metadata": {},
   "source": [
    "***"
   ]
  },
  {
   "cell_type": "markdown",
   "metadata": {},
   "source": [
    "<h2><span style=\"color:dodgerblue;font:12px\">HW7.0</span></h2> "
   ]
  },
  {
   "cell_type": "markdown",
   "metadata": {},
   "source": [
    "<span style=\"color:firebrick; font-size: 120%;\"><b>Shortest path graph distances (toy networks)</b></span>"
   ]
  },
  {
   "cell_type": "markdown",
   "metadata": {},
   "source": [
    "<span style=\"color:CornflowerBlue \"> Write MRJob classes to find shortest path graph distances, as described in the lectures. In addition to finding the distances, your code should also output a distance-minimizing path between the source and target. Work locally for this part of the assignment, and use both of the undirected and directed toy networks. To proof you code's function, run the following jobs </span> <br><br>\n",
    "<span style=\"color:CornflowerBlue \"> - shortest path in the undirected network from node 1 to node 4</span><br>\n",
    "<span style=\"color:CornflowerBlue \"> - shortest path in the directed network from node 1 to node 5</span>"
   ]
  },
  {
   "cell_type": "markdown",
   "metadata": {},
   "source": [
    "<span style=\"color:cornflowerblue; font-size: 120%;\"><b>Single Source Shortest Path<b></span><br>"
   ]
  },
  {
   "cell_type": "code",
   "execution_count": 11,
   "metadata": {
    "collapsed": false
   },
   "outputs": [
    {
     "name": "stdout",
     "output_type": "stream",
     "text": [
      "Overwriting dijkstra.py\n"
     ]
    }
   ],
   "source": [
    "%%writefile dijkstra.py\n",
    "#!/usr/bin/env python\n",
    "\n",
    "from mrjob.job import MRJob\n",
    "from mrjob.step import MRStep\n",
    "from mrjob.emr import EMRJobRunner\n",
    "from boto.s3.key import Key\n",
    "import ast\n",
    "import sys\n",
    "import boto\n",
    "\n",
    "class MRDijkstra(MRJob):    \n",
    "    # set command line option to accept start and end node\n",
    "    def configure_options(self):\n",
    "        super(MRDijkstra, self).configure_options()\n",
    "\n",
    "        self.add_passthrough_option('--startnode', default='1', type=str, help='starting node for single source shortest path')\n",
    "        self.add_passthrough_option('--endnode', default=None, type=str, help='target node to be visited')\n",
    "        self.add_passthrough_option('--bucket', default=None, type=str, help='bucket to write secondary output')\n",
    "        self.add_passthrough_option('--runmode', default=None, type=str, help='local or emr')\n",
    "\n",
    "    # initialize mapper with start node\n",
    "    def mapper_init(self):\n",
    "        self.startnode = self.options.startnode\n",
    "\n",
    "    # for each node emit adjacency list with path and distance\n",
    "    # (node, [edges, distance, path, state]))\n",
    "    def mapper(self, _, line):\n",
    "        # parse input\n",
    "        line = line.strip()\n",
    "        data = line.split('\\t')\n",
    "        values = data[1].strip('\"').split(\"|\")\n",
    "        \n",
    "        # init variables\n",
    "        node = None\n",
    "        edges = None\n",
    "        path = list()\n",
    "        dist = sys.maxint\n",
    "        state = None\n",
    "        \n",
    "        # parse the input for first iteration\n",
    "        if len(values) >= 1:\n",
    "            node = data[0].strip('\"')\n",
    "            edges = ast.literal_eval(values[0])\n",
    "        # parse the input for subsequent iterations \n",
    "        if len(values) == 4:\n",
    "            dist = int(values[1])\n",
    "            path = ast.literal_eval(values[2])\n",
    "            state = values[3]\n",
    "        \n",
    "        # for first pass set start node to q status\n",
    "        if state == None and self.startnode == node:\n",
    "            state = 'q'\n",
    "            dist = 0\n",
    "        \n",
    "        # for frontier nodes emit node with its neighbors\n",
    "        if state == 'q':\n",
    "            yield node, (edges, dist, path, 'v')\n",
    "            path.append(node)\n",
    "\n",
    "            for n in edges.iterkeys():\n",
    "                yield n, (None, dist + 1, path, 'q')\n",
    "        # else emit the current node\n",
    "        else:\n",
    "            yield node, (edges, dist, path, state)\n",
    "          \n",
    "    # initialize reducer\n",
    "    def reducer_init(self):\n",
    "        self.endnode = self.options.endnode     # read end node from command line\n",
    "        self.target_reached = -1                # set if target node reached\n",
    "        self.target_path = \"\"                   # set the path from source to target\n",
    "        self.s3bucket = self.options.bucket     # intermediate s3 bucket to check for terminaton condition\n",
    "        self.runmode = self.options.runmode     # read run mode - local or emr\n",
    "\n",
    "    # reducers select the minimum of the distances for each destination node. \n",
    "    # each iteration of MapReduce job of the algorithm expands the \"search \n",
    "    # frontier\" by one hop.\n",
    "    # if the node is set visited yield shortest distance and path\n",
    "    def reducer(self, key, values):\n",
    "        # initialize each node\n",
    "        edges = {}\n",
    "        dist = list()\n",
    "        state = list()\n",
    "        path = list()\n",
    "        f_state = ''\n",
    "\n",
    "        for v in values:\n",
    "            v_edges = v[0]\n",
    "            v_dist = v[1]\n",
    "            v_path = v[2]\n",
    "            v_state = v[3]\n",
    "\n",
    "            if v_state == 'v':\n",
    "                edges = v_edges\n",
    "                dist.append(v_dist)\n",
    "                path = v_path\n",
    "                state.append(v_state)\n",
    "                break\n",
    "            \n",
    "            # look for shortest distance\n",
    "            dist.append(v_dist)\n",
    "            state.append(v_state)\n",
    "\n",
    "            # recover graph structure\n",
    "            if v_edges != None:\n",
    "                edges = v_edges\n",
    "            if v_path != None and len(v_path) > 0:\n",
    "                path = v_path\n",
    "        \n",
    "        # update shortest distance\n",
    "        Dmin = min(dist)\n",
    "        \n",
    "        # keep track of pending and visited counters\n",
    "        # set target reached when end node is reached\n",
    "        if 'v' in state:\n",
    "            f_state = 'v'\n",
    "            if self.endnode != None and key.strip('\"') == self.endnode:\n",
    "                self.increment_counter('group', 'visited', 0)\n",
    "                self.target_reached = 1\n",
    "                self.target_path = str(key) + \"\\t\" + str(edges) + '|' + str(Dmin) + '|' + str(path) + '|' + \"F\"\n",
    "        elif 'q' in state:\n",
    "            f_state = 'q'\n",
    "            self.increment_counter('group', 'pending', 1)\n",
    "        else:\n",
    "            f_state = 'u'\n",
    "            self.increment_counter('group', 'pending', 1)\n",
    "            \n",
    "        yield key, str(edges) + '|' + str(Dmin) + '|' + str(path) + '|' + f_state\n",
    "\n",
    "    # if the target is reached, record the path and shortest \n",
    "    # distance on external S3 file if run on emr mode\n",
    "    # if run in local, stream the output\n",
    "    def reducer_final(self):\n",
    "        if self.target_reached == 1:\n",
    "            sys.stderr.write('Target reached')\n",
    "            if self.runmode == 'emr':\n",
    "                sys.stderr.write(self.target_path)\n",
    "                s3_key = 'hw7/visited.txt'\n",
    "                emr = EMRJobRunner()\n",
    "                c = emr.fs.make_s3_conn()\n",
    "                b = c.get_bucket(self.s3bucket)\n",
    "                k = Key(b)\n",
    "                k.key = s3_key\n",
    "                k.set_contents_from_string(self.target_path)\n",
    "                #self.write_to_s3(self.options.bucket, s3_key, self.target_path)\n",
    "            else:\n",
    "                yield self.target_path.split('\\t')[0], self.target_path.split('\\t')[1]\n",
    "            \n",
    "    # write to s3 bucket key with the string\n",
    "    def write_to_s3(bucket, key, string):\n",
    "        emr = EMRJobRunner()\n",
    "        c = emr.fs.make_s3_conn()\n",
    "        b = c.get_bucket(bucket)\n",
    "        k = Key(b)\n",
    "        k.key = key\n",
    "        k.set_contents_from_string(string)\n",
    "            \n",
    "if __name__ == '__main__':\n",
    "    MRDijkstra.run()"
   ]
  },
  {
   "cell_type": "markdown",
   "metadata": {},
   "source": [
    "<span style=\"color:cornflowerblue; font-size: 120%;\"><b>Driver script to run on local<b></span><br>"
   ]
  },
  {
   "cell_type": "code",
   "execution_count": 16,
   "metadata": {
    "collapsed": false
   },
   "outputs": [
    {
     "name": "stdout",
     "output_type": "stream",
     "text": [
      "Overwriting run_sssp.py\n"
     ]
    }
   ],
   "source": [
    "%%writefile run_sssp.py\n",
    "#!/usr/bin/python\n",
    "from dijkstra import MRDijkstra\n",
    "import time\n",
    "import sys\n",
    "import ast\n",
    "\n",
    "# read source file, start and end nodes\n",
    "SOURCE = sys.argv[1]\n",
    "START_NODE = sys.argv[2]\n",
    "\n",
    "if len(sys.argv) == 4:\n",
    "    END_NODE = sys.argv[3]\n",
    "\n",
    "start_time = time.time()\n",
    "print \"processing file {}\".format(SOURCE)\n",
    "\n",
    "# run on local\n",
    "mr_job = MRDijkstra(args=[SOURCE, '--startnode', START_NODE, '--endnode', END_NODE, '-q', '-r', 'local', '--no-strict-protocol'])\n",
    "\n",
    "counter = 0\n",
    "prev_counters = [{}]\n",
    "\n",
    "# run iterations until all nodes are visited or target is reached\n",
    "while (1):\n",
    "    with mr_job.make_runner() as runner: \n",
    "        counter += 1\n",
    "        print \"iteration #{}\".format(counter)\n",
    "\n",
    "        # run the mapreduce job \n",
    "        # each iteration of MapReduce job of the algorithm expands \n",
    "        # the \"search frontier\" by one hop\n",
    "        runner.run()\n",
    "\n",
    "        # stream the output of mapreduce to local\n",
    "        f = open(SOURCE, 'w+')\n",
    "\n",
    "        # read the output and write to local file\n",
    "        for line in runner.stream_output():\n",
    "            f.writelines(line)\n",
    "            line = line.split('\\t')\n",
    "\n",
    "            node = line[0].strip('\"')\n",
    "            stripe = line[1].strip('\"').split('|')\n",
    "            edges = stripe[0]\n",
    "            dist = stripe[1]\n",
    "            path = stripe[2]\n",
    "            state = stripe[3].replace('\"', \"\")\n",
    "\n",
    "            # if target node is reached expand the path\n",
    "            if state[0] == 'F' :\n",
    "                path = ast.literal_eval(path)\n",
    "                shortest_path = '->'.join(path) + \"->\" + node\n",
    "                min_distance = dist\n",
    "            \n",
    "        # termination condition\n",
    "        # only for local mode\n",
    "        # read the counters and find all nodes are visited or target reached\n",
    "        # break the iterations\n",
    "        curr_counters = runner.counters()\n",
    "        visited = curr_counters[0]['group'].get('visited', -1)\n",
    "        print curr_counters\n",
    "        if curr_counters == [{}] or curr_counters == prev_counters or visited == 0:\n",
    "            break\n",
    "        prev_counters = runner.counters()\n",
    "\n",
    "    f.close()\n",
    "\n",
    "end_time = time.time()\n",
    "print \"Time taken to find shortest path = {:.2f} seconds\".format(end_time - start_time)\n",
    "print \"shortest path in the network from node {} to node {} is {} with distance of {}\".format(START_NODE, END_NODE, shortest_path, min_distance)"
   ]
  },
  {
   "cell_type": "markdown",
   "metadata": {},
   "source": [
    "<span style=\"color:firebrick; font-size: 120%;\"><b>Shortest path in the undirected network from node 1 to node 4</b></span><br>"
   ]
  },
  {
   "cell_type": "code",
   "execution_count": 17,
   "metadata": {
    "collapsed": false
   },
   "outputs": [
    {
     "name": "stdout",
     "output_type": "stream",
     "text": [
      "processing file ./undirected_toy.txt.out\n",
      "iteration #1\n",
      "No handlers could be found for logger \"mrjob.local\"\n",
      "[{'group': {'pending': 4}}]\n",
      "iteration #2\n",
      "[{'group': {'pending': 2}}]\n",
      "iteration #3\n",
      "[{'group': {'visited': 0}}]\n",
      "Time taken to find shortest path = 7.21 seconds\n",
      "shortest path in the network from node 1 to node 4 is 1->5->4 with distance of 2\n"
     ]
    }
   ],
   "source": [
    "!cp ./undirected_toy.txt ./undirected_toy.txt.out\n",
    "!./run_sssp.py ./undirected_toy.txt.out 1 4"
   ]
  },
  {
   "cell_type": "markdown",
   "metadata": {},
   "source": [
    "<span style=\"color:firebrick; font-size: 120%;\"><b>Shortest path in the directed network from node 1 to node 5</b></span><br>"
   ]
  },
  {
   "cell_type": "code",
   "execution_count": 6,
   "metadata": {
    "collapsed": false
   },
   "outputs": [
    {
     "name": "stdout",
     "output_type": "stream",
     "text": [
      "processing file ./directed_toy.txt.out\n",
      "iteration #1\n",
      "No handlers could be found for logger \"mrjob.local\"\n",
      "[{'group': {'pending': 5}}]\n",
      "iteration #2\n",
      "[{'group': {'pending': 3}}]\n",
      "iteration #3\n",
      "[{'group': {'pending': 1}}]\n",
      "iteration #4\n",
      "[{'group': {'visited': 0}}]\n",
      "Time taken to find shortest path = 9.64 seconds\n",
      "shortest path in the network from node 1 to node 5 is 1->2->4->5 with distance of 3\n"
     ]
    }
   ],
   "source": [
    "!cp ./directed_toy.txt ./directed_toy.txt.out\n",
    "!./run_sssp.py ./directed_toy.txt.out 1 5"
   ]
  },
  {
   "cell_type": "markdown",
   "metadata": {},
   "source": [
    "<span style=\"color:firebrick; font-size: 120%;\"><b>Explore network derived from the NLTK synonym database</b></span><br>"
   ]
  },
  {
   "cell_type": "code",
   "execution_count": 7,
   "metadata": {
    "collapsed": false
   },
   "outputs": [
    {
     "name": "stdout",
     "output_type": "stream",
     "text": [
      "download: s3://ucb-mids-mls-networks/synNet/synNet.txt to ./synNet.txt.out\n",
      "processing file ./synNet.txt.out\n",
      "iteration #1\n",
      "No handlers could be found for logger \"mrjob.local\"\n",
      "[{'group': {'pending': 8270}}]\n",
      "iteration #2\n",
      "[{'group': {'pending': 8267}}]\n",
      "iteration #3\n",
      "[{'group': {'pending': 8265}}]\n",
      "iteration #4\n",
      "[{'group': {'pending': 8252}}]\n",
      "iteration #5\n",
      "[{'group': {'pending': 8158}}]\n",
      "iteration #6\n",
      "[{'group': {'pending': 7698}}]\n",
      "iteration #7\n",
      "[{'group': {'visited': 0, 'pending': 6097}}]\n",
      "Time taken to find shortest path = 27.08 seconds\n",
      "shortest path in the network from node 1 to node 1462 is 1->2->310->584->902->173->1462 with distance of 6\n"
     ]
    }
   ],
   "source": [
    "!aws s3 cp s3://ucb-mids-mls-networks/synNet/synNet.txt ./synNet.txt.out\n",
    "!./run_sssp.py ./synNet.txt.out 1 1462"
   ]
  },
  {
   "cell_type": "code",
   "execution_count": 18,
   "metadata": {
    "collapsed": false
   },
   "outputs": [
    {
     "name": "stdout",
     "output_type": "stream",
     "text": [
      "download: s3://ucb-mids-mls-networks/synNet/synNet.txt to ./synNet.txt.out\n",
      "processing file ./synNet.txt.out\n",
      "iteration #1\n",
      "No handlers could be found for logger \"mrjob.local\"\n",
      "[{'group': {'pending': 8270}}]\n",
      "iteration #2\n",
      "[{'group': {'pending': 8265}}]\n",
      "iteration #3\n",
      "[{'group': {'pending': 8158}}]\n",
      "iteration #4\n",
      "[{'group': {'visited': 0, 'pending': 7583}}]\n",
      "Time taken to find shortest path = 14.58 seconds\n",
      "shortest path in the network from node 7827 to node 536 is 7827->4655->631->536 with distance of 3\n"
     ]
    }
   ],
   "source": [
    "!aws s3 cp s3://ucb-mids-mls-networks/synNet/synNet.txt ./synNet.txt.out\n",
    "!./run_sssp.py ./synNet.txt.out 7827 536"
   ]
  },
  {
   "cell_type": "markdown",
   "metadata": {},
   "source": [
    "***"
   ]
  },
  {
   "cell_type": "markdown",
   "metadata": {},
   "source": [
    "<h2><span style=\"color:dodgerblue;font:12px\">HW7.1</span></h2> "
   ]
  },
  {
   "cell_type": "markdown",
   "metadata": {},
   "source": [
    "<span style=\"color:firebrick; font-size: 120%;\"><b>Exploratory data analysis (NLTK synonyms)</b></span>"
   ]
  },
  {
   "cell_type": "markdown",
   "metadata": {},
   "source": [
    "<span style=\"color:CornflowerBlue \"> Using MRJob, explore the synonyms network data. Consider plotting the degree distribution (does it follow a power law?), and determine some of the key features, like: number of nodes,  number links, or the average degree (i.e., the average number of links per node), etc...</span>"
   ]
  },
  {
   "cell_type": "markdown",
   "metadata": {},
   "source": [
    "<span style=\"color:cornflowerblue; font-size: 120%;\"><b>Exploratory Data Analysis<b></span><br>"
   ]
  },
  {
   "cell_type": "code",
   "execution_count": 19,
   "metadata": {
    "collapsed": false
   },
   "outputs": [
    {
     "name": "stdout",
     "output_type": "stream",
     "text": [
      "Writing DegreeDistribution.py\n"
     ]
    }
   ],
   "source": [
    "%%writefile DegreeDistribution.py\n",
    "from mrjob.job import MRJob\n",
    "from mrjob.step import MRStep\n",
    "import numpy as np\n",
    "\n",
    "class MRDegreeDistribution(MRJob):\n",
    "\n",
    "    def mapper(self, _, line):\n",
    "        v, edges = line.strip().split('\\t')\n",
    "        edges = eval(edges)\n",
    "        degree = len(edges.items())\n",
    "        yield '%010d'%int(degree), 1\n",
    "        \n",
    "    def reducer(self, degree, count):\n",
    "        yield int(degree), sum([i for i in count])\n",
    "\n",
    "if __name__ == '__main__':\n",
    "    MRDegreeDistribution.run()"
   ]
  },
  {
   "cell_type": "code",
   "execution_count": 28,
   "metadata": {
    "collapsed": false
   },
   "outputs": [
    {
     "name": "stdout",
     "output_type": "stream",
     "text": [
      "Overwriting NodeEdgeCounts.py\n"
     ]
    }
   ],
   "source": [
    "%%writefile NodeEdgeCounts.py\n",
    "from mrjob.job import MRJob\n",
    "from mrjob.step import MRStep\n",
    "import numpy as np\n",
    "\n",
    "class MRNodeEdgeCounts(MRJob):\n",
    "\n",
    "    def mapper(self, _, line):\n",
    "        v, edges = line.strip().split('\\t')\n",
    "        edges = eval(edges)\n",
    "        degree = len(edges.items())\n",
    "        yield None, (1, degree)\n",
    "        \n",
    "    def reducer(self, _ ,count):\n",
    "        data = list(count)\n",
    "        nodes, edges = sum([i[0] for i in data]), sum([i[1] for i in data])\n",
    "        yield nodes, edges\n",
    "\n",
    "if __name__ == '__main__':\n",
    "    MRNodeEdgeCounts.run()"
   ]
  },
  {
   "cell_type": "markdown",
   "metadata": {},
   "source": [
    "<span style=\"color:cornflowerblue; font-size: 120%;\"><b>Driver script to run on local<b></span><br>"
   ]
  },
  {
   "cell_type": "code",
   "execution_count": 91,
   "metadata": {
    "collapsed": false
   },
   "outputs": [
    {
     "name": "stdout",
     "output_type": "stream",
     "text": [
      "Overwriting run_data_analysis.py\n"
     ]
    }
   ],
   "source": [
    "%%writefile run_data_analysis.py\n",
    "#!/usr/bin/env python\n",
    "\n",
    "from NodeEdgeCounts import MRNodeEdgeCounts\n",
    "from DegreeDistribution import MRDegreeDistribution\n",
    "import time\n",
    "import sys\n",
    "\n",
    "SOURCE = sys.argv[1]\n",
    "RUNMODE = sys.argv[2]\n",
    "\n",
    "start_time = time.time()\n",
    "print \"processing file {}\".format(SOURCE)\n",
    "\n",
    "mr_job = MRNodeEdgeCounts(args=[SOURCE, '-r', RUNMODE, '--pool-emr-job-flows', '--max-hours-idle', '1'])\n",
    "with mr_job.make_runner() as runner: \n",
    "    runner.run()\n",
    "    nodes = []\n",
    "    edges = []\n",
    "    for line in runner.stream_output():\n",
    "        nodes.append(int(line.split('\\t')[0]))\n",
    "        edges.append(int(line.split('\\t')[1]))\n",
    "        \n",
    "    node_count = sum(nodes)\n",
    "    edge_count = sum(edges)\n",
    "\n",
    "mr_job = MRDegreeDistribution(args=[SOURCE, '-r', RUNMODE, '--pool-emr-job-flows', '--max-hours-idle', '1'])\n",
    "\n",
    "f = open('./degree_distribution.txt', 'w+')\n",
    "degree = {}\n",
    "\n",
    "with mr_job.make_runner() as runner: \n",
    "    runner.run()\n",
    "    for line in runner.stream_output():\n",
    "        f.writelines(line)\n",
    "        line = line.split('\\t')\n",
    "        degree[line[0]] = int(line[1])\n",
    "        \n",
    "f.close()\n",
    "end_time = time.time()\n",
    "print \"Time taken to do analysis = {:.2f} seconds\".format(end_time - start_time)\n",
    "\n",
    "print \"Number of nodes = {}\".format(node_count)\n",
    "print \"Number of links = {}\".format(edge_count)\n",
    "print \"Average Degree = {}\".format(1.0 * sum(degree.values())/len(degree))"
   ]
  },
  {
   "cell_type": "markdown",
   "metadata": {},
   "source": [
    "<span style=\"color:cornflowerblue; font-size: 120%;\">Running locally</span><br>"
   ]
  },
  {
   "cell_type": "code",
   "execution_count": 92,
   "metadata": {
    "collapsed": false
   },
   "outputs": [
    {
     "name": "stdout",
     "output_type": "stream",
     "text": [
      "download: s3://ucb-mids-mls-networks/synNet/synNet.txt to ./synNet.txt.out\n",
      "processing file ./synNet.txt.out\n",
      "No handlers could be found for logger \"mrjob.runner\"\n",
      "Time taken to do analysis = 6.17 seconds\n",
      "Number of nodes = 8271\n",
      "Number of links = 61134\n",
      "Average Degree = 99.6506024096\n"
     ]
    }
   ],
   "source": [
    "!aws s3 cp s3://ucb-mids-mls-networks/synNet/synNet.txt ./synNet.txt.out\n",
    "!./run_data_analysis.py ./synNet.txt.out local"
   ]
  },
  {
   "cell_type": "code",
   "execution_count": 86,
   "metadata": {
    "collapsed": false
   },
   "outputs": [
    {
     "data": {
      "image/png": "[encoded data removed]",
      "text/plain": [
       "<matplotlib.figure.Figure at 0x7f91ad3d9e90>"
      ]
     },
     "metadata": {},
     "output_type": "display_data"
    }
   ],
   "source": [
    "%matplotlib inline\n",
    "import matplotlib.pyplot as plt\n",
    "\n",
    "degree_d = {}\n",
    "for line in open('./degree_distribution.txt').read().strip().split('\\n'):\n",
    "    degree, frequency = line.split('\\t')\n",
    "    degree = int(degree)\n",
    "    frequency = int(frequency)\n",
    "    degree_d[degree] = degree_d.get(degree, 0) + frequency\n",
    "\n",
    "fig, ax = plt.subplots()\n",
    "distribution = plt.bar(degree_d.keys(), degree_d.values(), color = \"r\")\n",
    "plt.ylabel('frequency')\n",
    "plt.xlabel('degree (no. of nodes)')\n",
    "plt.title('degree distribution')\n",
    "\n",
    "plt.tight_layout()\n",
    "plt.show()"
   ]
  },
  {
   "cell_type": "markdown",
   "metadata": {},
   "source": [
    "**The distribution of degree follows the power law as the degree increases frequency drops exponentially i.e. long tail distribution**"
   ]
  },
  {
   "cell_type": "markdown",
   "metadata": {},
   "source": [
    "<span style=\"color:cornflowerblue; font-size: 120%;\">Running on EMR</span><br>"
   ]
  },
  {
   "cell_type": "code",
   "execution_count": 66,
   "metadata": {
    "collapsed": false
   },
   "outputs": [
    {
     "name": "stdout",
     "output_type": "stream",
     "text": [
      "download: s3://ucb-mids-mls-networks/synNet/synNet.txt to ./synNet.txt.out\n",
      "processing file ./synNet.txt.out\n",
      "No handlers could be found for logger \"mrjob.runner\"\n",
      "Time taken to do analysis = 489.05 seconds\n",
      "Number of nodes = 8271\n",
      "Number of links = 61134\n",
      "\n",
      "Average Degree = 99.6506024096\n"
     ]
    }
   ],
   "source": [
    "!aws s3 cp s3://ucb-mids-mls-networks/synNet/synNet.txt ./synNet.txt.out\n",
    "!./run_data_analysis.py ./synNet.txt.out emr"
   ]
  },
  {
   "cell_type": "markdown",
   "metadata": {},
   "source": [
    "***"
   ]
  },
  {
   "cell_type": "markdown",
   "metadata": {},
   "source": [
    "<h2><span style=\"color:dodgerblue;font:12px\">HW7.2</span></h2> "
   ]
  },
  {
   "cell_type": "markdown",
   "metadata": {},
   "source": [
    "<span style=\"color:firebrick; font-size: 120%;\"><b>Shortest path graph distances (NLTK synonyms)</b></span>"
   ]
  },
  {
   "cell_type": "markdown",
   "metadata": {},
   "source": [
    "<span style=\"color:CornflowerBlue \"> Write (reuse your code from 7.0) an MRJob class to find shortest path graph distances, and apply it to the NLTK synonyms network dataset. Proof your code's function by running the job: <br>- shortest path starting at \"walk\" (index=7827) and ending at \"make\" (index=536),<br>\n",
    "and showing you code's output. Once again, your output should include the path and the distance. </span>"
   ]
  },
  {
   "cell_type": "markdown",
   "metadata": {},
   "source": [
    "**We are using the same algorithm as in HW7.0 to find the shortest path. However, the driver script needs modification to read indices file and determine associated words**"
   ]
  },
  {
   "cell_type": "markdown",
   "metadata": {},
   "source": [
    "<span style=\"color:cornflowerblue; font-size: 120%;\"><b>Driver script to run on local<b></span><br>"
   ]
  },
  {
   "cell_type": "code",
   "execution_count": 68,
   "metadata": {
    "collapsed": false
   },
   "outputs": [
    {
     "name": "stdout",
     "output_type": "stream",
     "text": [
      "Writing run_sssp_syn.py\n"
     ]
    }
   ],
   "source": [
    "%%writefile run_sssp_syn.py\n",
    "#!/usr/bin/python\n",
    "from dijkstra import MRDijkstra\n",
    "import time\n",
    "import sys\n",
    "import ast\n",
    "\n",
    "start_time = time.time()\n",
    "\n",
    "# load indices file into memory\n",
    "lookup = { k:v for k, v in (line.split(\"\\t\") for line in open('./indices.txt').read().strip().split('\\n')) }\n",
    "\n",
    "SOURCE = sys.argv[1]\n",
    "START_WORD = sys.argv[2]\n",
    "START_NODE = lookup[START_WORD]\n",
    "\n",
    "if len(sys.argv) == 4:\n",
    "    END_WORD = sys.argv[3]\n",
    "    END_NODE = lookup[END_WORD]\n",
    "    \n",
    "# reverse lookup i.e. give word based on index\n",
    "lookup = { v:k for k, v in (line.split(\"\\t\") for line in open('./indices.txt').read().strip().split('\\n')) }\n",
    "    \n",
    "print \"processing file {}\".format(SOURCE)\n",
    "print \"start word {} ({})\".format(START_WORD, START_NODE)\n",
    "print \"end word {} ({})\".format(END_WORD, END_NODE)\n",
    "    \n",
    "# on local\n",
    "mr_job = MRDijkstra(args=[SOURCE, '--startnode', START_NODE, '--endnode', END_NODE, '-q', '-r', 'local', '--no-strict-protocol'])\n",
    "\n",
    "counter = 0\n",
    "prev_counters = [{}]\n",
    "\n",
    "while (1):\n",
    "    with mr_job.make_runner() as runner: \n",
    "        counter += 1\n",
    "        print \"iteration #{}\".format(counter)\n",
    "\n",
    "        runner.run()\n",
    "\n",
    "        f = open(SOURCE, 'w+')\n",
    "\n",
    "        for line in runner.stream_output():\n",
    "            f.writelines(line)\n",
    "            line = line.split('\\t')\n",
    "\n",
    "            node = line[0].strip('\"')\n",
    "            stripe = line[1].strip('\"').split('|')\n",
    "            edges = stripe[0]\n",
    "            dist = stripe[1]\n",
    "            path = stripe[2]\n",
    "            state = stripe[3].replace('\"', \"\")\n",
    "\n",
    "            if state[0] == 'F' :\n",
    "                path = ast.literal_eval(path)\n",
    "                words = [ lookup[w] for w in path ]\n",
    "                end_word = lookup[node]\n",
    "                shortest_path = ' -> '.join(words) + \" -> \" + end_word\n",
    "                min_distance = dist\n",
    "            \n",
    "        curr_counters = runner.counters()\n",
    "        visited = curr_counters[0]['group'].get('visited', -1)\n",
    "        print curr_counters\n",
    "        if curr_counters == [{}] or curr_counters == prev_counters or visited == 0:\n",
    "            break\n",
    "        \n",
    "        prev_counters = runner.counters()\n",
    "\n",
    "    f.close()\n",
    "\n",
    "end_time = time.time()\n",
    "print \"Time taken to find shortest path = {:.2f} seconds\".format(end_time - start_time)\n",
    "print \"shortest path in the synonyms from word '{}' to word '{}' is [ {} ] with distance of {}\".format(START_WORD, END_WORD, shortest_path, min_distance)"
   ]
  },
  {
   "cell_type": "markdown",
   "metadata": {},
   "source": [
    "<span style=\"color:cornflowerblue; font-size: 120%;\">Running locally</span><br>"
   ]
  },
  {
   "cell_type": "code",
   "execution_count": 69,
   "metadata": {
    "collapsed": false
   },
   "outputs": [
    {
     "name": "stdout",
     "output_type": "stream",
     "text": [
      "downloading indices file\n",
      "download: s3://ucb-mids-mls-networks/synNet/indices.txt to ./indices.txt\n",
      "downloading source file\n",
      "download: s3://ucb-mids-mls-networks/synNet/synNet.txt to ./synNet.txt.out\n",
      "processing file ./synNet.txt.out\n",
      "start word walk (7827)\n",
      "end word Make (2246)\n",
      "iteration #1\n",
      "No handlers could be found for logger \"mrjob.local\"\n",
      "[{'group': {'pending': 8270}}]\n",
      "iteration #2\n",
      "[{'group': {'pending': 8265}}]\n",
      "iteration #3\n",
      "[{'group': {'pending': 8158}}]\n",
      "iteration #4\n",
      "[{'group': {'visited': 0, 'pending': 7583}}]\n",
      "Time taken to find shortest path = 14.82 seconds\n",
      "shortest path in the synonyms from word 'walk' to word 'Make' is [ walk -> passes -> draw -> Make ] with distance of 3\n"
     ]
    }
   ],
   "source": [
    "print \"downloading indices file\"\n",
    "!aws s3 cp s3://ucb-mids-mls-networks/synNet/indices.txt ./indices.txt\n",
    "print \"downloading source file\"\n",
    "!aws s3 cp s3://ucb-mids-mls-networks/synNet/synNet.txt ./synNet.txt.out\n",
    "!./run_sssp_syn.py ./synNet.txt.out walk Make"
   ]
  },
  {
   "cell_type": "markdown",
   "metadata": {},
   "source": [
    "<span style=\"color:cornflowerblue; font-size: 120%;\"><b>Driver script to run on EMR<b></span><br>"
   ]
  },
  {
   "cell_type": "code",
   "execution_count": 71,
   "metadata": {
    "collapsed": false
   },
   "outputs": [
    {
     "name": "stdout",
     "output_type": "stream",
     "text": [
      "Overwriting run_sssp_syn_emr.py\n"
     ]
    }
   ],
   "source": [
    "%%writefile run_sssp_syn_emr.py\n",
    "#!/usr/bin/python\n",
    "from dijkstra import MRDijkstra\n",
    "from ReadShortestPath import MRReadShortestPath\n",
    "from mrjob.emr import EMRJobRunner\n",
    "from boto.s3.key import Key\n",
    "import time\n",
    "import sys\n",
    "import ast\n",
    "import boto\n",
    "\n",
    "def check_sssp_completed():\n",
    "    emr = EMRJobRunner()\n",
    "    key = 'hw7/visited.txt'\n",
    "    c = emr.fs.make_s3_conn()\n",
    "    b = c.get_bucket('ucb-mids-mls-rajeshthallam') # substitute your bucket name here\n",
    "    key_exists = b.get_key(key)\n",
    "    \n",
    "    if key_exists == None:\n",
    "        return \"-1\"\n",
    "    else:\n",
    "        k = Key(b)\n",
    "        k.key = key\n",
    "        return k.get_contents_as_string()\n",
    "\n",
    "def get_output(line):\n",
    "    line = line.split('\\t')\n",
    "\n",
    "    node = line[0].strip('\"')\n",
    "    stripe = line[1].strip('\"').split('|')\n",
    "    edges = stripe[0]\n",
    "    dist = stripe[1]\n",
    "    path = stripe[2]\n",
    "    state = stripe[3].replace('\"', \"\")\n",
    "        \n",
    "    if state[0] == 'F':\n",
    "        path = ast.literal_eval(path)\n",
    "        words = [ lookup[w] for w in path ]\n",
    "        end_word = lookup[node]\n",
    "        shortest_path = ' -> '.join(words) + \" -> \" + end_word\n",
    "        min_distance = str(dist)\n",
    "            \n",
    "        return [shortest_path, min_distance]\n",
    "    \n",
    "start_time = time.time()\n",
    "\n",
    "# load indices file into memory\n",
    "lookup = { k:v for k, v in (line.split(\"\\t\") for line in open('./indices.txt').read().strip().split('\\n')) }\n",
    "\n",
    "SOURCE = sys.argv[1] \n",
    "START_WORD = sys.argv[2]\n",
    "START_NODE = lookup[START_WORD]\n",
    "\n",
    "if len(sys.argv) == 4:\n",
    "    END_WORD = sys.argv[3]\n",
    "    END_NODE = lookup[END_WORD]\n",
    "    \n",
    "# reverse lookup i.e. give word based on index\n",
    "lookup = { v:k for k, v in (line.split(\"\\t\") for line in open('./indices.txt').read().strip().split('\\n')) }\n",
    "    \n",
    "print \"processing file {}\".format(SOURCE)\n",
    "print \"start word {} ({})\".format(START_WORD, START_NODE)\n",
    "print \"end word {} ({})\".format(END_WORD, END_NODE)\n",
    "\n",
    "# iterate until shortest path from source to target is found\n",
    "counter = 0\n",
    "prev_counters = [{}]\n",
    "\n",
    "while (1):\n",
    "    counter += 1\n",
    "    print \"iteration #{}\".format(counter)\n",
    "\n",
    "    if counter == 1:\n",
    "        s3_source = SOURCE\n",
    "    else:\n",
    "        s3_source = 's3://ucb-mids-mls-rajeshthallam/hw7/ssps/' + str(counter-1) + \"/\"\n",
    "    \n",
    "    s3_target = 's3://ucb-mids-mls-rajeshthallam/hw7/ssps/' + str(counter) + \"/\"\n",
    "    \n",
    "    print s3_source\n",
    "    print s3_target\n",
    "    \n",
    "    mr_job = MRDijkstra(args=[s3_source, \n",
    "                          '--startnode', START_NODE, \n",
    "                          '--endnode', END_NODE, \n",
    "                          '--bucket', 'ucb-mids-mls-rajeshthallam',\n",
    "                          '--runmode', 'emr',\n",
    "                          '-r', 'emr',\n",
    "                          '--pool-emr-job-flows',\n",
    "                          '--max-hours-idle', '1',\n",
    "                          '--output-dir', s3_target,\n",
    "                          '--no-output',\n",
    "                          '--no-strict-protocol'])\n",
    "\n",
    "    with mr_job.make_runner() as runner: \n",
    "        runner.run()\n",
    "    \n",
    "    status = check_sssp_completed()\n",
    "    if status != \"-1\":\n",
    "        break\n",
    "    else:\n",
    "        print status\n",
    "        \n",
    "print get_output(status)\n",
    "shortest_path, min_distance = get_output(status)\n",
    "\n",
    "end_time = time.time()\n",
    "print \"Time taken to find shortest path = {:.2f} seconds\".format(end_time - start_time)\n",
    "print \"shortest path in the synonyms from word '{}' to word '{}' is [ {} ] with distance of {}\".format(START_WORD, END_WORD, shortest_path, min_distance)"
   ]
  },
  {
   "cell_type": "markdown",
   "metadata": {},
   "source": [
    "<span style=\"color:cornflowerblue; font-size: 120%;\">Running on EMR</span><br>"
   ]
  },
  {
   "cell_type": "code",
   "execution_count": 73,
   "metadata": {
    "collapsed": false
   },
   "outputs": [
    {
     "name": "stdout",
     "output_type": "stream",
     "text": [
      "delete: s3://ucb-mids-mls-rajeshthallam/hw7/visited.txt\n",
      "Downloading indices to local\n",
      "download: s3://ucb-mids-mls-networks/synNet/indices.txt to ./indices.txt\n",
      "processing file s3://ucb-mids-mls-networks/synNet/synNet.txt\n",
      "start word walk (7827)\n",
      "end word make (536)\n",
      "iteration #1\n",
      "s3://ucb-mids-mls-networks/synNet/synNet.txt\n",
      "s3://ucb-mids-mls-rajeshthallam/hw7/ssps/1/\n",
      "No handlers could be found for logger \"mrjob.util\"\n",
      "-1\n",
      "iteration #2\n",
      "s3://ucb-mids-mls-rajeshthallam/hw7/ssps/1/\n",
      "s3://ucb-mids-mls-rajeshthallam/hw7/ssps/2/\n",
      "-1\n",
      "iteration #3\n",
      "s3://ucb-mids-mls-rajeshthallam/hw7/ssps/2/\n",
      "s3://ucb-mids-mls-rajeshthallam/hw7/ssps/3/\n",
      "-1\n",
      "iteration #4\n",
      "s3://ucb-mids-mls-rajeshthallam/hw7/ssps/3/\n",
      "s3://ucb-mids-mls-rajeshthallam/hw7/ssps/4/\n",
      "['walk -> pass -> gives -> make', '3']\n",
      "Time taken to find shortest path = 993.90 seconds\n",
      "shortest path in the synonyms from word 'walk' to word 'make' is [ walk -> pass -> gives -> make ] with distance of 3\n"
     ]
    }
   ],
   "source": [
    "# cleanup\n",
    "!aws s3 rm s3://ucb-mids-mls-rajeshthallam/hw7/ssps --recursive\n",
    "!aws s3 rm s3://ucb-mids-mls-rajeshthallam/hw7/visited.txt\n",
    "\n",
    "print \"Downloading indices to local\"\n",
    "!aws s3 cp s3://ucb-mids-mls-networks/synNet/indices.txt ./indices.txt\n",
    "    \n",
    "# run job\n",
    "!./run_sssp_syn_emr.py \"s3://ucb-mids-mls-networks/synNet/synNet.txt\" walk make"
   ]
  },
  {
   "cell_type": "markdown",
   "metadata": {},
   "source": [
    "***"
   ]
  },
  {
   "cell_type": "markdown",
   "metadata": {},
   "source": [
    "<h2><span style=\"color:dodgerblue;font:12px\">HW7.3</span></h2> "
   ]
  },
  {
   "cell_type": "markdown",
   "metadata": {},
   "source": [
    "<span style=\"color:firebrick; font-size: 120%;\"><b>Exploratory data analysis (Wikipedia)</b></span>"
   ]
  },
  {
   "cell_type": "markdown",
   "metadata": {},
   "source": [
    "<span style=\"color:CornflowerBlue \"> Using MRJob, explore the Wikipedia network data on the AWS cloud. Reuse your code from HW 7.1---does is scale well? Be cautioned that Wikipedia is a directed network, where links are not symmetric. So, even though a node may be linked to, it will not appear as a primary record itself if it has no out-links. </span>"
   ]
  },
  {
   "cell_type": "markdown",
   "metadata": {},
   "source": [
    "<span style=\"color:cornflowerblue; font-size: 120%;\">Running on EMR</span><br>"
   ]
  },
  {
   "cell_type": "code",
   "execution_count": 93,
   "metadata": {
    "collapsed": false
   },
   "outputs": [
    {
     "name": "stdout",
     "output_type": "stream",
     "text": [
      "processing file s3://ucb-mids-mls-networks/wikipedia/all-pages-indexed-out.txt\n",
      "No handlers could be found for logger \"mrjob.runner\"\n",
      "Time taken to do analysis = 1079.69 seconds\n",
      "Number of nodes = 5781290\n",
      "Number of links = 142114057\n",
      "Average Degree = 2803.72938894\n"
     ]
    }
   ],
   "source": [
    "!./run_data_analysis.py \"s3://ucb-mids-mls-networks/wikipedia/all-pages-indexed-out.txt\" emr"
   ]
  },
  {
   "cell_type": "code",
   "execution_count": 94,
   "metadata": {
    "collapsed": false
   },
   "outputs": [
    {
     "data": {
      "image/png": "[encoded data removed]",
      "text/plain": [
       "<matplotlib.figure.Figure at 0x7f91ad49d110>"
      ]
     },
     "metadata": {},
     "output_type": "display_data"
    }
   ],
   "source": [
    "%matplotlib inline\n",
    "import matplotlib.pyplot as plt\n",
    "\n",
    "degree_d = {}\n",
    "for line in open('./degree_distribution.txt').read().strip().split('\\n'):\n",
    "    degree, frequency = line.split('\\t')\n",
    "    degree = int(degree)\n",
    "    frequency = int(frequency)\n",
    "    degree_d[degree] = degree_d.get(degree, 0) + frequency\n",
    "\n",
    "fig, ax = plt.subplots()\n",
    "distribution = plt.bar(degree_d.keys(), degree_d.values(), color = \"r\")\n",
    "plt.ylabel('frequency')\n",
    "plt.xlabel('degree (no. of nodes)')\n",
    "plt.xlim([0, 100])\n",
    "plt.title('degree distribution')\n",
    "\n",
    "plt.tight_layout()\n",
    "plt.show()"
   ]
  },
  {
   "cell_type": "markdown",
   "metadata": {},
   "source": [
    "***"
   ]
  },
  {
   "cell_type": "markdown",
   "metadata": {},
   "source": [
    "<h2><span style=\"color:dodgerblue;font:12px\">HW7.4</span></h2> "
   ]
  },
  {
   "cell_type": "markdown",
   "metadata": {},
   "source": [
    "<span style=\"color:firebrick; font-size: 120%;\"><b>Shortest path graph distances (Wikipedia)</b></span>"
   ]
  },
  {
   "cell_type": "markdown",
   "metadata": {},
   "source": [
    "<span style=\"color:CornflowerBlue \"> Using MRJob, find shortest path graph distances in the Wikipedia network on the AWS cloud. Reuse your code from 7.2, but once again be warned of Wikipedia being a directed network. To be sure of your code's functionality in this context, run a systems test on the directed_toy.txt network. <br><br>When running your code on the Wikipedia network, proof its function by running the job: <br> - shortest path from \"Ireland\" (index=6176135) to \"University of California, Berkeley\" (index=13466359), <br><br> and show your code's output. Once your code is running, find some other shortest paths and report your results.</span>"
   ]
  },
  {
   "cell_type": "markdown",
   "metadata": {},
   "source": [
    "<span style=\"color:cornflowerblue; font-size: 120%;\"><b>Driver script to run on EMR<b></span><br>"
   ]
  },
  {
   "cell_type": "code",
   "execution_count": 95,
   "metadata": {
    "collapsed": false
   },
   "outputs": [
    {
     "name": "stdout",
     "output_type": "stream",
     "text": [
      "Overwriting run_sssp_syn_emr_hw7_4.py\n"
     ]
    }
   ],
   "source": [
    "%%writefile run_sssp_syn_emr_hw7_4.py\n",
    "#!/usr/bin/python\n",
    "from dijkstra import MRDijkstra\n",
    "from ReadShortestPath import MRReadShortestPath\n",
    "from mrjob.emr import EMRJobRunner\n",
    "from boto.s3.key import Key\n",
    "import time\n",
    "import sys\n",
    "import ast\n",
    "import boto\n",
    "\n",
    "def check_sssp_completed():\n",
    "    emr = EMRJobRunner()\n",
    "    key = 'hw7/visited.txt'\n",
    "    c = emr.fs.make_s3_conn()\n",
    "    b = c.get_bucket('ucb-mids-mls-rajeshthallam') # substitute your bucket name here\n",
    "    key_exists = b.get_key(key)\n",
    "    \n",
    "    if key_exists == None:\n",
    "        return \"-1\"\n",
    "    else:\n",
    "        k = Key(b)\n",
    "        k.key = key\n",
    "        return k.get_contents_as_string()\n",
    "\n",
    "def get_output(line):\n",
    "    line = line.split('\\t')\n",
    "\n",
    "    node = line[0].strip('\"')\n",
    "    stripe = line[1].strip('\"').split('|')\n",
    "    edges = stripe[0]\n",
    "    dist = stripe[1]\n",
    "    path = stripe[2]\n",
    "    state = stripe[3].replace('\"', \"\")\n",
    "        \n",
    "    if state[0] == 'F':\n",
    "        path = ast.literal_eval(path)\n",
    "        words = [ lookup[w] for w in path ]\n",
    "        end_word = lookup[node]\n",
    "        shortest_path = ' -> '.join(words) + \" -> \" + end_word\n",
    "        min_distance = str(dist)\n",
    "            \n",
    "        return [shortest_path, min_distance]\n",
    "    \n",
    "start_time = time.time()\n",
    "\n",
    "# load indices file into memory\n",
    "lookup = { k:v for k, v, v1, v2 in (line.split(\"\\t\") for line in open('./indices.txt').read().strip().split('\\n')) }\n",
    "\n",
    "SOURCE = sys.argv[1] \n",
    "START_WORD = sys.argv[2]\n",
    "START_NODE = lookup[START_WORD]\n",
    "\n",
    "if len(sys.argv) == 4:\n",
    "    END_WORD = sys.argv[3]\n",
    "    END_NODE = lookup[END_WORD]\n",
    "    \n",
    "# reverse lookup i.e. give word based on index\n",
    "lookup = { v:k for k, v, v1, v2 in (line.split(\"\\t\") for line in open('./indices.txt').read().strip().split('\\n')) }\n",
    "    \n",
    "print \"processing file {}\".format(SOURCE)\n",
    "print \"start word {} ({})\".format(START_WORD, START_NODE)\n",
    "print \"end word {} ({})\".format(END_WORD, END_NODE)\n",
    "\n",
    "# iterate until shortest path from source to target is found\n",
    "counter = 0\n",
    "prev_counters = [{}]\n",
    "\n",
    "while (1):\n",
    "    counter += 1\n",
    "    print \"iteration #{}\".format(counter)\n",
    "\n",
    "    if counter == 1:\n",
    "        s3_source = ['s3://ucb-mids-mls-networks/wikipedia/all-pages-indexed-out.txt']\n",
    "    else:\n",
    "        s3_source = ['s3://ucb-mids-mls-rajeshthallam/hw7/ssps/' + str(counter-1) + \"/\"]\n",
    "    \n",
    "    s3_target = 's3://ucb-mids-mls-rajeshthallam/hw7/ssps/' + str(counter) + \"/\"\n",
    "    \n",
    "    print s3_source\n",
    "    print s3_target\n",
    "    \n",
    "    args = [\n",
    "        '--startnode', START_NODE, \n",
    "        '--endnode', END_NODE, \n",
    "        '--bucket', 'ucb-mids-mls-rajeshthallam',\n",
    "        '--runmode', 'emr',\n",
    "        '-r', 'emr',\n",
    "        '--pool-emr-job-flows',\n",
    "        '--max-hours-idle', '1',\n",
    "        '--output-dir', s3_target,\n",
    "        '--no-output',\n",
    "        '--no-strict-protocol'\n",
    "    ] + s3_source\n",
    "    \n",
    "    mr_job = MRDijkstra(args)\n",
    "\n",
    "    with mr_job.make_runner() as runner: \n",
    "        runner.run()\n",
    "    \n",
    "    status = check_sssp_completed()\n",
    "    if status != \"-1\":\n",
    "        break\n",
    "    else:\n",
    "        print status\n",
    "        \n",
    "print get_output(status)\n",
    "shortest_path, min_distance = get_output(status)\n",
    "\n",
    "end_time = time.time()\n",
    "print \"Time taken to find shortest path = {:.2f} seconds\".format(end_time - start_time)\n",
    "print \"shortest path in the synonyms from word '{}' to word '{}' is [ {} ] with distance of {}\".format(START_WORD, END_WORD, shortest_path, min_distance)"
   ]
  },
  {
   "cell_type": "markdown",
   "metadata": {},
   "source": [
    "<span style=\"color:cornflowerblue; font-size: 120%;\">Running on EMR</span><br>"
   ]
  },
  {
   "cell_type": "code",
   "execution_count": 96,
   "metadata": {
    "collapsed": false
   },
   "outputs": [
    {
     "name": "stdout",
     "output_type": "stream",
     "text": [
      "delete: s3://ucb-mids-mls-rajeshthallam/hw7/ssps/1/part-00000\n",
      "delete: s3://ucb-mids-mls-rajeshthallam/hw7/ssps/1/part-00011\n",
      "delete: s3://ucb-mids-mls-rajeshthallam/hw7/ssps/1/part-00003\n",
      "delete: s3://ucb-mids-mls-rajeshthallam/hw7/ssps/1/part-00002\n",
      "delete: s3://ucb-mids-mls-rajeshthallam/hw7/ssps/1/part-00006\n",
      "delete: s3://ucb-mids-mls-rajeshthallam/hw7/ssps/1/part-00004\n",
      "delete: s3://ucb-mids-mls-rajeshthallam/hw7/ssps/1/part-00005\n",
      "delete: s3://ucb-mids-mls-rajeshthallam/hw7/ssps/1/part-00008\n",
      "delete: s3://ucb-mids-mls-rajeshthallam/hw7/ssps/1/part-00009\n",
      "delete: s3://ucb-mids-mls-rajeshthallam/hw7/ssps/1/part-00007\n",
      "delete: s3://ucb-mids-mls-rajeshthallam/hw7/ssps/1/part-00001\n",
      "A client error (404) occurred when calling the HeadObject operation: Key \"hw7/visited.txt\" does not exist\n",
      "Completed 1 part(s) with ... file(s) remaining\n",
      "Downloading indices to local\n",
      "download: s3://ucb-mids-mls-networks/wikipedia/indices.txt to ./indices.txt\n",
      "processing file s3://ucb-mids-mls-networks/wikipedia/all-pages-indexed-out.txt\n",
      "start word Ireland (6176135)\n",
      "end word University of California, Berkeley (13466359)\n",
      "iteration #1\n",
      "['s3://ucb-mids-mls-networks/wikipedia/all-pages-indexed-out.txt']\n",
      "s3://ucb-mids-mls-rajeshthallam/hw7/ssps/1/\n",
      "No handlers could be found for logger \"mrjob.util\"\n",
      "-1\n",
      "iteration #2\n",
      "['s3://ucb-mids-mls-rajeshthallam/hw7/ssps/1/']\n",
      "s3://ucb-mids-mls-rajeshthallam/hw7/ssps/2/\n",
      "-1\n",
      "iteration #3\n",
      "['s3://ucb-mids-mls-rajeshthallam/hw7/ssps/2/']\n",
      "s3://ucb-mids-mls-rajeshthallam/hw7/ssps/3/\n",
      "['Ireland -> Seamus Heaney -> University of California, Berkeley', '2']\n",
      "Time taken to find shortest path = 1769.00 seconds\n",
      "shortest path in the synonyms from word 'Ireland' to word 'University of California, Berkeley' is [ Ireland -> Seamus Heaney -> University of California, Berkeley ] with distance of 2\n"
     ]
    }
   ],
   "source": [
    "# cleanup\n",
    "!aws s3 rm s3://ucb-mids-mls-rajeshthallam/hw7/ssps --recursive\n",
    "!aws s3 rm s3://ucb-mids-mls-rajeshthallam/hw7/visited.txt\n",
    "\n",
    "# download indices to local\n",
    "print \"Downloading indices to local\"\n",
    "!aws s3 cp s3://ucb-mids-mls-networks/wikipedia/indices.txt ./indices.txt\n",
    "    \n",
    "# run job\n",
    "!./run_sssp_syn_emr_hw7_4.py \"s3://ucb-mids-mls-networks/wikipedia/all-pages-indexed-out.txt\" \"Ireland\" \"University of California, Berkeley\""
   ]
  },
  {
   "cell_type": "markdown",
   "metadata": {},
   "source": [
    "<span style=\"color:cornflowerblue; font-size: 120%;\">Some other shortest paths</span><br>"
   ]
  },
  {
   "cell_type": "code",
   "execution_count": null,
   "metadata": {
    "collapsed": false
   },
   "outputs": [],
   "source": [
    "# cleanup\n",
    "!aws s3 rm s3://ucb-mids-mls-rajeshthallam/hw7/ssps --recursive\n",
    "!aws s3 rm s3://ucb-mids-mls-rajeshthallam/hw7/visited.txt\n",
    "\n",
    "# download indices to local\n",
    "print \"Downloading indices to local\"\n",
    "#!aws s3 cp s3://ucb-mids-mls-networks/wikipedia/indices.txt ./indices.txt\n",
    "    \n",
    "# run job\n",
    "!./run_sssp_syn_emr_hw7_4.py \"s3://ucb-mids-mls-networks/wikipedia/all-pages-indexed-out.txt\" \"Barack Obama\" \"Britney Spears\""
   ]
  },
  {
   "cell_type": "markdown",
   "metadata": {},
   "source": [
    "***"
   ]
  },
  {
   "cell_type": "markdown",
   "metadata": {},
   "source": [
    "<h2><span style=\"color:dodgerblue;font:12px\">HW7.5</span></h2> "
   ]
  },
  {
   "cell_type": "markdown",
   "metadata": {},
   "source": [
    "<span style=\"color:firebrick; font-size: 120%;\"><b>Conceptual exercise: Largest single-source network distances</b></span>"
   ]
  },
  {
   "cell_type": "markdown",
   "metadata": {},
   "source": [
    "<span style=\"color:CornflowerBlue \">Suppose you wanted to find the largest network distance from a single source,\n",
    "i.e., a node that is the furthest (but still reachable) from a single source. How would you implement this task?  How is this different from finding the shortest path graph distances? Is this task more difficult to implement than the shortest path distance? As you respond, please comment on program structure, runtimes, iterations, general system requirements, etc.</span>"
   ]
  },
  {
   "cell_type": "markdown",
   "metadata": {},
   "source": [
    "- We would implement this task by executing an exhaustive breadth-first search. \n",
    "- There is no point to switch to depth-first search as this implementation would have to be exhaustive either way. The stopping criteria would only be reached after a complete trace of the graph. This is unlike the shortest distance where the algorithm can be terminated upon discovery of the first path to the destination node. \n",
    "- This program would be more difficult to implement than the shortest path in some ways. In terms of runtime and iterations, both would be increased over the shortest path algorithm. \n",
    "- General system requirements should not change too greatly, there would be more potential paths to store, but in most cases that should not add too much to the memory footprint. \n",
    "- In terms of program structure, it would be simpler to implement the longest path algorithm, as it is the same as the shortest path, except that stopping criteria is removed, paths are stored, and finally the longest path is returned. All of the above holds for an unweighted graph. If a weighted graph is used, then an exhaustive search must be used and there are no real tradeoffs. "
   ]
  },
  {
   "cell_type": "markdown",
   "metadata": {},
   "source": [
    "<span style=\"color:firebrick\">** -- END OF ASSIGNMENT 7 -- **</span>"
   ]
  }
 ],
 "metadata": {
  "kernelspec": {
   "display_name": "Python 2",
   "language": "python",
   "name": "python2"
  },
  "language_info": {
   "codemirror_mode": {
    "name": "ipython",
    "version": 2
   },
   "file_extension": ".py",
   "mimetype": "text/x-python",
   "name": "python",
   "nbconvert_exporter": "python",
   "pygments_lexer": "ipython2",
   "version": "2.7.6"
  }
 },
 "nbformat": 4,
 "nbformat_minor": 0
}
